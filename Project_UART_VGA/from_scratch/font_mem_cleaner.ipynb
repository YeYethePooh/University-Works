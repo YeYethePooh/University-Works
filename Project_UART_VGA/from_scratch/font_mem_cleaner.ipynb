{
 "cells": [
  {
   "cell_type": "code",
   "execution_count": 1,
   "metadata": {},
   "outputs": [
    {
     "name": "stdout",
     "output_type": "stream",
     "text": [
      "The data has been processed and saved to 'fixed_font.txt'.\n"
     ]
    }
   ],
   "source": [
    "# Read the input font.txt file\n",
    "with open('unprocessed_font.txt', 'r') as f:\n",
    "    lines = f.readlines()\n",
    "\n",
    "# Process each line to remove the comments and strip extra characters\n",
    "processed_lines = []\n",
    "for line in lines:\n",
    "    # Remove any comment starting with a semicolon\n",
    "    line = line.split(';')[0].strip()\n",
    "    \n",
    "    # Replace 'db' with an empty string and remove any other unnecessary characters\n",
    "    line = line.replace('db', '').strip()\n",
    "    \n",
    "    # Remove extra spaces and ensure a single space between numbers\n",
    "    line = ','.join(line.split())\n",
    "    \n",
    "    if line:\n",
    "        processed_lines.append(line)\n",
    "\n",
    "# Write the cleaned data into fixed_font.txt\n",
    "with open('fixed_font.txt', 'w') as f:\n",
    "    for line in processed_lines:\n",
    "        f.write(line + '\\n')\n",
    "\n",
    "print(\"The data has been processed and saved to 'fixed_font.txt'.\")\n"
   ]
  },
  {
   "cell_type": "code",
   "execution_count": 14,
   "metadata": {},
   "outputs": [
    {
     "name": "stdout",
     "output_type": "stream",
     "text": [
      "The data has been processed and saved to 'fixed_font_thai.txt'.\n"
     ]
    }
   ],
   "source": [
    "import re\n",
    "\n",
    "# Read the input file\n",
    "with open('unprocessed_font_thai.txt', 'r') as f:\n",
    "    lines = f.readlines()\n",
    "\n",
    "# Initialize variables\n",
    "modified_lines = []\n",
    "in_bitmap_section = False\n",
    "bitmap_lines = []\n",
    "\n",
    "# Regex pattern to match valid hexadecimal numbers\n",
    "hex_pattern = re.compile(r'^[0-9A-Fa-f]+$')\n",
    "\n",
    "# Process each line in the file\n",
    "for line in lines:\n",
    "    line = line.strip()  # Strip whitespace around the line\n",
    "\n",
    "    if line.startswith(\"BITMAP\"):\n",
    "        in_bitmap_section = True\n",
    "        bitmap_lines = []  # Start collecting bitmap lines\n",
    "        # modified_lines.append(line)  # Add the BITMAP line\n",
    "    elif line.startswith(\"ENDCHAR\"):\n",
    "        # If we're in a bitmap section, we need to adjust the bitmap\n",
    "        if in_bitmap_section:\n",
    "            # Filter out only valid hexadecimal numbers (ignore any other text)\n",
    "            bitmap_lines = [line for line in bitmap_lines if hex_pattern.match(line)]\n",
    "            \n",
    "            # Calculate the number of lines to add (12 - current number of bitmap lines)\n",
    "            num_missing_lines = 12 - len(bitmap_lines)\n",
    "            # Add missing lines (00) to the top\n",
    "            bitmap_lines = ['00'] * num_missing_lines + bitmap_lines\n",
    "            \n",
    "            # Add the modified bitmap lines back into the output\n",
    "            modified_lines.extend(bitmap_lines)\n",
    "            # Add the ENDCHAR line\n",
    "            # modified_lines.append(line)\n",
    "        else:\n",
    "            modified_lines.append(line)  # If not in a bitmap section, just append\n",
    "        in_bitmap_section = False\n",
    "    elif in_bitmap_section:\n",
    "        # Collect the bitmap data lines\n",
    "        bitmap_lines.append(line)\n",
    "    # else:\n",
    "    #     modified_lines.append(line)\n",
    "\n",
    "# Write the modified content to the output file\n",
    "with open('fixed_font_thai.txt', 'w') as f:\n",
    "    for line in modified_lines:\n",
    "        f.write(line + '\\n')\n",
    "\n",
    "print(\"The data has been processed and saved to 'fixed_font_thai.txt'.\")\n"
   ]
  }
 ],
 "metadata": {
  "kernelspec": {
   "display_name": "myown_env",
   "language": "python",
   "name": "python3"
  },
  "language_info": {
   "codemirror_mode": {
    "name": "ipython",
    "version": 3
   },
   "file_extension": ".py",
   "mimetype": "text/x-python",
   "name": "python",
   "nbconvert_exporter": "python",
   "pygments_lexer": "ipython3",
   "version": "3.10.9"
  }
 },
 "nbformat": 4,
 "nbformat_minor": 2
}
