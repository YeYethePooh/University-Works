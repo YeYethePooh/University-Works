{
 "cells": [
  {
   "cell_type": "code",
   "execution_count": 14,
   "metadata": {},
   "outputs": [],
   "source": [
    "binaryNum3 = 9\n",
    "binaryNum2 = 9\n",
    "binaryNum1 = 9\n",
    "binaryNum0 = 9\n",
    "sum = binaryNum3*1000 + binaryNum2*100 + binaryNum1*10 + binaryNum0;\n",
    "num3 = sum//(16*16*16);\n",
    "num2 = (sum - num3*(16*16*16))//(16*16);\n",
    "num1 = (sum - num3*(16*16*16) - num2*(16*16)) // 16;\n",
    "num0 = (sum - num3*(16*16*16) - num2*(16*16) - num1*16);"
   ]
  },
  {
   "cell_type": "code",
   "execution_count": 15,
   "metadata": {},
   "outputs": [
    {
     "name": "stdout",
     "output_type": "stream",
     "text": [
      "2\n",
      "7\n",
      "0\n",
      "15\n"
     ]
    }
   ],
   "source": [
    "print(num3)\n",
    "print(num2)\n",
    "print(num1)\n",
    "print(num0)"
   ]
  }
 ],
 "metadata": {
  "kernelspec": {
   "display_name": "myown_env",
   "language": "python",
   "name": "python3"
  },
  "language_info": {
   "codemirror_mode": {
    "name": "ipython",
    "version": 3
   },
   "file_extension": ".py",
   "mimetype": "text/x-python",
   "name": "python",
   "nbconvert_exporter": "python",
   "pygments_lexer": "ipython3",
   "version": "3.10.9"
  }
 },
 "nbformat": 4,
 "nbformat_minor": 2
}
